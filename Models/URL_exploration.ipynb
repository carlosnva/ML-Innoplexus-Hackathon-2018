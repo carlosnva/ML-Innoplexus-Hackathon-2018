{
 "cells": [
  {
   "cell_type": "code",
   "execution_count": 101,
   "metadata": {},
   "outputs": [],
   "source": [
    "import pandas as pd\n",
    "import nltk\n",
    "from nltk.tokenize import RegexpTokenizer\n",
    "import string\n",
    "from string import digits\n",
    "from bs4 import BeautifulSoup"
   ]
  },
  {
   "cell_type": "code",
   "execution_count": 102,
   "metadata": {},
   "outputs": [
    {
     "data": {
      "text/html": [
       "<div>\n",
       "<style scoped>\n",
       "    .dataframe tbody tr th:only-of-type {\n",
       "        vertical-align: middle;\n",
       "    }\n",
       "\n",
       "    .dataframe tbody tr th {\n",
       "        vertical-align: top;\n",
       "    }\n",
       "\n",
       "    .dataframe thead th {\n",
       "        text-align: right;\n",
       "    }\n",
       "</style>\n",
       "<table border=\"1\" class=\"dataframe\">\n",
       "  <thead>\n",
       "    <tr style=\"text-align: right;\">\n",
       "      <th></th>\n",
       "      <th>Webpage_id</th>\n",
       "      <th>Html</th>\n",
       "    </tr>\n",
       "  </thead>\n",
       "  <tbody>\n",
       "    <tr>\n",
       "      <th>0</th>\n",
       "      <td>1</td>\n",
       "      <td>&lt;!DOCTYPE html&gt;\\n&lt;html lang=\"en\" dir=\"ltr\" xml...</td>\n",
       "    </tr>\n",
       "    <tr>\n",
       "      <th>1</th>\n",
       "      <td>2</td>\n",
       "      <td>&lt;!DOCTYPE html&gt;\\n&lt;html lang=\"en\" dir=\"ltr\" xml...</td>\n",
       "    </tr>\n",
       "    <tr>\n",
       "      <th>2</th>\n",
       "      <td>3</td>\n",
       "      <td>&lt;!DOCTYPE html&gt;\\n&lt;html lang=\"en\" dir=\"ltr\" xml...</td>\n",
       "    </tr>\n",
       "    <tr>\n",
       "      <th>3</th>\n",
       "      <td>4</td>\n",
       "      <td>&lt;!DOCTYPE html&gt;\\n&lt;html lang=\"en\" dir=\"ltr\" xml...</td>\n",
       "    </tr>\n",
       "    <tr>\n",
       "      <th>4</th>\n",
       "      <td>5</td>\n",
       "      <td>&lt;!DOCTYPE html&gt;\\n&lt;html lang=\"en\" dir=\"ltr\" xml...</td>\n",
       "    </tr>\n",
       "  </tbody>\n",
       "</table>\n",
       "</div>"
      ],
      "text/plain": [
       "   Webpage_id                                               Html\n",
       "0           1  <!DOCTYPE html>\\n<html lang=\"en\" dir=\"ltr\" xml...\n",
       "1           2  <!DOCTYPE html>\\n<html lang=\"en\" dir=\"ltr\" xml...\n",
       "2           3  <!DOCTYPE html>\\n<html lang=\"en\" dir=\"ltr\" xml...\n",
       "3           4  <!DOCTYPE html>\\n<html lang=\"en\" dir=\"ltr\" xml...\n",
       "4           5  <!DOCTYPE html>\\n<html lang=\"en\" dir=\"ltr\" xml..."
      ]
     },
     "execution_count": 102,
     "metadata": {},
     "output_type": "execute_result"
    }
   ],
   "source": [
    "z = pd.read_csv('html_data.csv', nrows = 1000)\n",
    "z.head()"
   ]
  },
  {
   "cell_type": "code",
   "execution_count": 103,
   "metadata": {},
   "outputs": [],
   "source": [
    "def sampler(html):\n",
    "    soup = BeautifulSoup(html, 'html.parser')\n",
    "    title = soup.find('title')\n",
    "    string_title = title.string\n",
    "    print(string_title)\n",
    "    # remove punctuation\n",
    "    table = str.maketrans({key: None for key in string.punctuation})\n",
    "    pre_sentence = string_title.translate(table)\n",
    "    print(type(pre_sentence))\n",
    "    # remove digits\n",
    "    remove_digits = str.maketrans('', '', digits)\n",
    "    sentence = pre_sentence.translate(remove_digits)\n",
    "    print(type(sentence))\n",
    "    # remove non-English words\n",
    "    words = set(nltk.corpus.words.words())\n",
    "    tokens = \" \"\n",
    "    sample_tokens = tokens.join(w for w in nltk.wordpunct_tokenize(sentence) \\\n",
    "         if w.lower() in words or not w.isalpha())\n",
    "    str(sample_tokens)\n",
    "    print(sample_tokens)"
   ]
  },
  {
   "cell_type": "code",
   "execution_count": 104,
   "metadata": {},
   "outputs": [
    {
     "name": "stdout",
     "output_type": "stream",
     "text": [
      "ISRCTN - ISRCTN60046672: Sertraline in post Stroke Depression in Irkutsk, Russia\n",
      "<class 'str'>\n",
      "<class 'str'>\n",
      "in post Stroke Depression in Russia\n",
      "<class 'NoneType'>\n"
     ]
    }
   ],
   "source": [
    "html = z.Html[499]\n",
    "s = sampler(html)\n",
    "print(type(s))"
   ]
  },
  {
   "cell_type": "code",
   "execution_count": null,
   "metadata": {},
   "outputs": [],
   "source": []
  },
  {
   "cell_type": "code",
   "execution_count": null,
   "metadata": {},
   "outputs": [],
   "source": []
  },
  {
   "cell_type": "code",
   "execution_count": null,
   "metadata": {},
   "outputs": [],
   "source": []
  },
  {
   "cell_type": "code",
   "execution_count": null,
   "metadata": {},
   "outputs": [],
   "source": []
  },
  {
   "cell_type": "code",
   "execution_count": null,
   "metadata": {},
   "outputs": [],
   "source": []
  },
  {
   "cell_type": "code",
   "execution_count": null,
   "metadata": {},
   "outputs": [],
   "source": []
  },
  {
   "cell_type": "code",
   "execution_count": null,
   "metadata": {},
   "outputs": [],
   "source": []
  }
 ],
 "metadata": {
  "kernelspec": {
   "display_name": "Python 3",
   "language": "python",
   "name": "python3"
  },
  "language_info": {
   "codemirror_mode": {
    "name": "ipython",
    "version": 3
   },
   "file_extension": ".py",
   "mimetype": "text/x-python",
   "name": "python",
   "nbconvert_exporter": "python",
   "pygments_lexer": "ipython3",
   "version": "3.6.6"
  }
 },
 "nbformat": 4,
 "nbformat_minor": 2
}
